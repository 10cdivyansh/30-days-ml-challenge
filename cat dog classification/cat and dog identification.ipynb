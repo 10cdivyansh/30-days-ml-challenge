{
 "cells": [
  {
   "cell_type": "markdown",
   "id": "d0cc9fa3",
   "metadata": {},
   "source": [
    "# CNN"
   ]
  },
  {
   "cell_type": "code",
   "execution_count": 1,
   "id": "a485a72b",
   "metadata": {},
   "outputs": [],
   "source": [
    "import tensorflow as tf\n",
    "from keras.preprocessing.image import ImageDataGenerator"
   ]
  },
  {
   "cell_type": "code",
   "execution_count": 2,
   "id": "4c7de1f3",
   "metadata": {},
   "outputs": [
    {
     "data": {
      "text/plain": [
       "'2.11.0'"
      ]
     },
     "execution_count": 2,
     "metadata": {},
     "output_type": "execute_result"
    }
   ],
   "source": [
    "tf.__version__"
   ]
  },
  {
   "cell_type": "markdown",
   "id": "51a2aeb0",
   "metadata": {},
   "source": [
    "### Preprocessing"
   ]
  },
  {
   "cell_type": "code",
   "execution_count": 4,
   "id": "d5fe333e",
   "metadata": {},
   "outputs": [
    {
     "name": "stdout",
     "output_type": "stream",
     "text": [
      "Found 8000 images belonging to 2 classes.\n"
     ]
    }
   ],
   "source": [
    "#Image augmentation\n",
    "train_datagen=ImageDataGenerator(rescale=1./255,shear_range=0.2,zoom_range=0.2,horizontal_flip=True)\n",
    "training_set=train_datagen.flow_from_directory(r\"C:\\Users\\Divyansh\\Desktop\\30 days ml challenge\\cat dog classification\\cat dog dataset\\training_set\",target_size=(64,64),batch_size=32,class_mode=\"binary\")"
   ]
  },
  {
   "cell_type": "code",
   "execution_count": 5,
   "id": "5e58f400",
   "metadata": {},
   "outputs": [
    {
     "name": "stdout",
     "output_type": "stream",
     "text": [
      "Found 2000 images belonging to 2 classes.\n"
     ]
    }
   ],
   "source": [
    "test_datagen=ImageDataGenerator(rescale=1./255)\n",
    "test_set=training_set=train_datagen.flow_from_directory(r\"C:\\Users\\Divyansh\\Desktop\\30 days ml challenge\\cat dog classification\\cat dog dataset\\test_set\",target_size=(64,64),batch_size=32,class_mode=\"binary\")"
   ]
  },
  {
   "cell_type": "code",
   "execution_count": 6,
   "id": "971f70ec",
   "metadata": {},
   "outputs": [],
   "source": [
    "cnn=tf.keras.models.Sequential()"
   ]
  },
  {
   "cell_type": "code",
   "execution_count": 7,
   "id": "81aea84e",
   "metadata": {},
   "outputs": [],
   "source": [
    "cnn.add(tf.keras.layers.Conv2D(filters=32,kernel_size=3,activation=\"relu\",input_shape=[64,64,3]))"
   ]
  },
  {
   "cell_type": "code",
   "execution_count": 8,
   "id": "1304ad24",
   "metadata": {},
   "outputs": [],
   "source": [
    "#pooling\n",
    "cnn.add(tf.keras.layers.MaxPool2D(pool_size=2,strides=2))"
   ]
  },
  {
   "cell_type": "code",
   "execution_count": 9,
   "id": "55ee5c86",
   "metadata": {},
   "outputs": [],
   "source": [
    "#2nd layer\n",
    "cnn.add(tf.keras.layers.Conv2D(filters=32,kernel_size=3,activation=\"relu\"))\n",
    "cnn.add(tf.keras.layers.MaxPool2D(pool_size=2,strides=2))"
   ]
  },
  {
   "cell_type": "code",
   "execution_count": 11,
   "id": "eef85271",
   "metadata": {},
   "outputs": [],
   "source": [
    "cnn.add(tf.keras.layers.Flatten())"
   ]
  },
  {
   "cell_type": "code",
   "execution_count": 12,
   "id": "74333bfc",
   "metadata": {},
   "outputs": [],
   "source": [
    "cnn.add(tf.keras.layers.Dense(units=128,activation=\"relu\"))\n"
   ]
  },
  {
   "cell_type": "code",
   "execution_count": 13,
   "id": "f5c55fb7",
   "metadata": {},
   "outputs": [],
   "source": [
    "cnn.add(tf.keras.layers.Dense(units=1,activation=\"sigmoid\"))"
   ]
  },
  {
   "cell_type": "markdown",
   "id": "f3d056c3",
   "metadata": {},
   "source": [
    "### Compiling the CNN"
   ]
  },
  {
   "cell_type": "code",
   "execution_count": 14,
   "id": "3aec6d1e",
   "metadata": {},
   "outputs": [],
   "source": [
    "cnn.compile(optimizer=\"adam\",loss=\"binary_crossentropy\",metrics=[\"accuracy\"])"
   ]
  },
  {
   "cell_type": "code",
   "execution_count": 15,
   "id": "13be918b",
   "metadata": {},
   "outputs": [
    {
     "name": "stdout",
     "output_type": "stream",
     "text": [
      "Epoch 1/25\n",
      "63/63 [==============================] - 22s 343ms/step - loss: 0.6918 - accuracy: 0.5300 - val_loss: 0.6735 - val_accuracy: 0.5945\n",
      "Epoch 2/25\n",
      "63/63 [==============================] - 12s 192ms/step - loss: 0.6570 - accuracy: 0.6185 - val_loss: 0.6172 - val_accuracy: 0.6925\n",
      "Epoch 3/25\n",
      "63/63 [==============================] - 12s 193ms/step - loss: 0.6298 - accuracy: 0.6515 - val_loss: 0.6508 - val_accuracy: 0.6075\n",
      "Epoch 4/25\n",
      "63/63 [==============================] - 12s 187ms/step - loss: 0.5943 - accuracy: 0.6870 - val_loss: 0.5597 - val_accuracy: 0.7075\n",
      "Epoch 5/25\n",
      "63/63 [==============================] - 12s 194ms/step - loss: 0.5617 - accuracy: 0.6960 - val_loss: 0.5293 - val_accuracy: 0.7465\n",
      "Epoch 6/25\n",
      "63/63 [==============================] - 11s 182ms/step - loss: 0.5595 - accuracy: 0.7155 - val_loss: 0.5301 - val_accuracy: 0.7415\n",
      "Epoch 7/25\n",
      "63/63 [==============================] - 12s 186ms/step - loss: 0.5357 - accuracy: 0.7295 - val_loss: 0.5140 - val_accuracy: 0.7410\n",
      "Epoch 8/25\n",
      "63/63 [==============================] - 12s 190ms/step - loss: 0.5354 - accuracy: 0.7335 - val_loss: 0.5143 - val_accuracy: 0.7465\n",
      "Epoch 9/25\n",
      "63/63 [==============================] - 11s 179ms/step - loss: 0.5025 - accuracy: 0.7485 - val_loss: 0.4690 - val_accuracy: 0.7765\n",
      "Epoch 10/25\n",
      "63/63 [==============================] - 11s 171ms/step - loss: 0.4772 - accuracy: 0.7750 - val_loss: 0.4576 - val_accuracy: 0.7885\n",
      "Epoch 11/25\n",
      "63/63 [==============================] - 11s 170ms/step - loss: 0.4651 - accuracy: 0.7815 - val_loss: 0.4399 - val_accuracy: 0.7960\n",
      "Epoch 12/25\n",
      "63/63 [==============================] - 11s 169ms/step - loss: 0.4754 - accuracy: 0.7670 - val_loss: 0.4236 - val_accuracy: 0.8020\n",
      "Epoch 13/25\n",
      "63/63 [==============================] - 11s 169ms/step - loss: 0.4553 - accuracy: 0.7895 - val_loss: 0.4410 - val_accuracy: 0.7955\n",
      "Epoch 14/25\n",
      "63/63 [==============================] - 12s 186ms/step - loss: 0.4312 - accuracy: 0.8025 - val_loss: 0.4224 - val_accuracy: 0.8045\n",
      "Epoch 15/25\n",
      "63/63 [==============================] - 12s 184ms/step - loss: 0.4293 - accuracy: 0.8020 - val_loss: 0.4070 - val_accuracy: 0.8105\n",
      "Epoch 16/25\n",
      "63/63 [==============================] - 12s 187ms/step - loss: 0.3990 - accuracy: 0.8185 - val_loss: 0.3896 - val_accuracy: 0.8180\n",
      "Epoch 17/25\n",
      "63/63 [==============================] - 12s 190ms/step - loss: 0.3875 - accuracy: 0.8290 - val_loss: 0.3546 - val_accuracy: 0.8545\n",
      "Epoch 18/25\n",
      "63/63 [==============================] - 12s 191ms/step - loss: 0.3917 - accuracy: 0.8240 - val_loss: 0.3437 - val_accuracy: 0.8455\n",
      "Epoch 19/25\n",
      "63/63 [==============================] - 12s 188ms/step - loss: 0.3599 - accuracy: 0.8295 - val_loss: 0.3199 - val_accuracy: 0.8575\n",
      "Epoch 20/25\n",
      "63/63 [==============================] - 12s 186ms/step - loss: 0.3410 - accuracy: 0.8470 - val_loss: 0.3338 - val_accuracy: 0.8580\n",
      "Epoch 21/25\n",
      "63/63 [==============================] - 11s 176ms/step - loss: 0.3302 - accuracy: 0.8520 - val_loss: 0.2978 - val_accuracy: 0.8770\n",
      "Epoch 22/25\n",
      "63/63 [==============================] - 12s 185ms/step - loss: 0.3095 - accuracy: 0.8680 - val_loss: 0.2818 - val_accuracy: 0.8795\n",
      "Epoch 23/25\n",
      "63/63 [==============================] - 12s 184ms/step - loss: 0.2901 - accuracy: 0.8730 - val_loss: 0.2676 - val_accuracy: 0.8955\n",
      "Epoch 24/25\n",
      "63/63 [==============================] - 11s 180ms/step - loss: 0.2782 - accuracy: 0.8800 - val_loss: 0.2555 - val_accuracy: 0.8930\n",
      "Epoch 25/25\n",
      "63/63 [==============================] - 11s 176ms/step - loss: 0.2926 - accuracy: 0.8780 - val_loss: 0.2518 - val_accuracy: 0.9015\n"
     ]
    },
    {
     "data": {
      "text/plain": [
       "<keras.callbacks.History at 0x200ce03efa0>"
      ]
     },
     "execution_count": 15,
     "metadata": {},
     "output_type": "execute_result"
    }
   ],
   "source": [
    "cnn.fit(x= training_set,validation_data=test_set,epochs=25)"
   ]
  },
  {
   "cell_type": "markdown",
   "id": "c2a0f271",
   "metadata": {},
   "source": [
    "# Testing"
   ]
  },
  {
   "cell_type": "code",
   "execution_count": 39,
   "id": "f708b177",
   "metadata": {},
   "outputs": [],
   "source": [
    "import numpy as np\n",
    "#from keras.preprocessing import image\n",
    "import keras.utils as image\n",
    "test_image=image.load_img(r\"C:\\Users\\Divyansh\\Desktop\\30 days ml challenge\\cat dog classification\\cat dog dataset\\test_set\\cats\\cat.4014.jpg\",target_size=(64,64))\n"
   ]
  },
  {
   "cell_type": "code",
   "execution_count": 40,
   "id": "d4a508d0",
   "metadata": {},
   "outputs": [],
   "source": [
    "#converting img to array\n",
    "test_image=image.img_to_array(test_image)"
   ]
  },
  {
   "cell_type": "code",
   "execution_count": 41,
   "id": "f553a9f2",
   "metadata": {},
   "outputs": [],
   "source": [
    "test_image=np.expand_dims(test_image,axis=0)"
   ]
  },
  {
   "cell_type": "code",
   "execution_count": 42,
   "id": "c5cfee99",
   "metadata": {},
   "outputs": [
    {
     "name": "stdout",
     "output_type": "stream",
     "text": [
      "1/1 [==============================] - 0s 15ms/step\n"
     ]
    }
   ],
   "source": [
    "result=cnn.predict(test_image)"
   ]
  },
  {
   "cell_type": "code",
   "execution_count": 43,
   "id": "46648055",
   "metadata": {},
   "outputs": [
    {
     "data": {
      "text/plain": [
       "{'cats': 0, 'dogs': 1}"
      ]
     },
     "execution_count": 43,
     "metadata": {},
     "output_type": "execute_result"
    }
   ],
   "source": [
    "training_set.class_indices"
   ]
  },
  {
   "cell_type": "code",
   "execution_count": 44,
   "id": "90f720e7",
   "metadata": {},
   "outputs": [
    {
     "name": "stdout",
     "output_type": "stream",
     "text": [
      "CAT\n"
     ]
    }
   ],
   "source": [
    "if result[0][0]==1:\n",
    "    prediction=\"DOG\"\n",
    "else:\n",
    "    prediction=\"CAT\"\n",
    "print(prediction)"
   ]
  },
  {
   "cell_type": "code",
   "execution_count": null,
   "id": "5813f4da",
   "metadata": {},
   "outputs": [],
   "source": []
  },
  {
   "cell_type": "code",
   "execution_count": null,
   "id": "23a67825",
   "metadata": {},
   "outputs": [],
   "source": []
  }
 ],
 "metadata": {
  "kernelspec": {
   "display_name": "Python 3 (ipykernel)",
   "language": "python",
   "name": "python3"
  },
  "language_info": {
   "codemirror_mode": {
    "name": "ipython",
    "version": 3
   },
   "file_extension": ".py",
   "mimetype": "text/x-python",
   "name": "python",
   "nbconvert_exporter": "python",
   "pygments_lexer": "ipython3",
   "version": "3.9.13"
  }
 },
 "nbformat": 4,
 "nbformat_minor": 5
}
