{
 "cells": [
  {
   "cell_type": "markdown",
   "id": "ef443851",
   "metadata": {},
   "source": [
    "## Importing the libraries"
   ]
  },
  {
   "cell_type": "code",
   "execution_count": 21,
   "id": "288b6c61",
   "metadata": {},
   "outputs": [],
   "source": [
    "import numpy as np\n",
    "import pandas as pd\n",
    "import tensorflow as tf"
   ]
  },
  {
   "cell_type": "code",
   "execution_count": 22,
   "id": "176b5c7d",
   "metadata": {},
   "outputs": [
    {
     "data": {
      "text/plain": [
       "'2.11.0'"
      ]
     },
     "execution_count": 22,
     "metadata": {},
     "output_type": "execute_result"
    }
   ],
   "source": [
    "tf.__version__"
   ]
  },
  {
   "cell_type": "markdown",
   "id": "8911ef28",
   "metadata": {},
   "source": [
    "### Data Preprocessing"
   ]
  },
  {
   "cell_type": "code",
   "execution_count": 23,
   "id": "f5fa2021",
   "metadata": {},
   "outputs": [],
   "source": [
    "url=r\"C:\\Users\\Divyansh\\Desktop\\30 days ml challenge\\combined cycle power plant\\combined_cycle_power_plant.xlsx\"\n",
    "dataset=pd.read_excel(url)"
   ]
  },
  {
   "cell_type": "code",
   "execution_count": 24,
   "id": "053d27fb",
   "metadata": {},
   "outputs": [
    {
     "data": {
      "text/html": [
       "<div>\n",
       "<style scoped>\n",
       "    .dataframe tbody tr th:only-of-type {\n",
       "        vertical-align: middle;\n",
       "    }\n",
       "\n",
       "    .dataframe tbody tr th {\n",
       "        vertical-align: top;\n",
       "    }\n",
       "\n",
       "    .dataframe thead th {\n",
       "        text-align: right;\n",
       "    }\n",
       "</style>\n",
       "<table border=\"1\" class=\"dataframe\">\n",
       "  <thead>\n",
       "    <tr style=\"text-align: right;\">\n",
       "      <th></th>\n",
       "      <th>AT</th>\n",
       "      <th>V</th>\n",
       "      <th>AP</th>\n",
       "      <th>RH</th>\n",
       "      <th>PE</th>\n",
       "    </tr>\n",
       "  </thead>\n",
       "  <tbody>\n",
       "    <tr>\n",
       "      <th>0</th>\n",
       "      <td>14.96</td>\n",
       "      <td>41.76</td>\n",
       "      <td>1024.07</td>\n",
       "      <td>73.17</td>\n",
       "      <td>463.26</td>\n",
       "    </tr>\n",
       "    <tr>\n",
       "      <th>1</th>\n",
       "      <td>25.18</td>\n",
       "      <td>62.96</td>\n",
       "      <td>1020.04</td>\n",
       "      <td>59.08</td>\n",
       "      <td>444.37</td>\n",
       "    </tr>\n",
       "    <tr>\n",
       "      <th>2</th>\n",
       "      <td>5.11</td>\n",
       "      <td>39.40</td>\n",
       "      <td>1012.16</td>\n",
       "      <td>92.14</td>\n",
       "      <td>488.56</td>\n",
       "    </tr>\n",
       "    <tr>\n",
       "      <th>3</th>\n",
       "      <td>20.86</td>\n",
       "      <td>57.32</td>\n",
       "      <td>1010.24</td>\n",
       "      <td>76.64</td>\n",
       "      <td>446.48</td>\n",
       "    </tr>\n",
       "    <tr>\n",
       "      <th>4</th>\n",
       "      <td>10.82</td>\n",
       "      <td>37.50</td>\n",
       "      <td>1009.23</td>\n",
       "      <td>96.62</td>\n",
       "      <td>473.90</td>\n",
       "    </tr>\n",
       "  </tbody>\n",
       "</table>\n",
       "</div>"
      ],
      "text/plain": [
       "      AT      V       AP     RH      PE\n",
       "0  14.96  41.76  1024.07  73.17  463.26\n",
       "1  25.18  62.96  1020.04  59.08  444.37\n",
       "2   5.11  39.40  1012.16  92.14  488.56\n",
       "3  20.86  57.32  1010.24  76.64  446.48\n",
       "4  10.82  37.50  1009.23  96.62  473.90"
      ]
     },
     "execution_count": 24,
     "metadata": {},
     "output_type": "execute_result"
    }
   ],
   "source": [
    "dataset.head()"
   ]
  },
  {
   "cell_type": "code",
   "execution_count": 25,
   "id": "24edccf1",
   "metadata": {},
   "outputs": [],
   "source": [
    "X=dataset.iloc[:,:-1].values\n",
    "y=dataset.iloc[:,-1].values"
   ]
  },
  {
   "cell_type": "code",
   "execution_count": 26,
   "id": "36d0bf5a",
   "metadata": {},
   "outputs": [],
   "source": [
    "from sklearn.model_selection import train_test_split\n",
    "X_train,X_test,y_train,y_test=train_test_split(X,y,test_size=0.2,random_state=0)\n"
   ]
  },
  {
   "cell_type": "markdown",
   "id": "7353503b",
   "metadata": {},
   "source": [
    "# ANN"
   ]
  },
  {
   "cell_type": "code",
   "execution_count": 71,
   "id": "0aa56df4",
   "metadata": {},
   "outputs": [],
   "source": [
    "ann=tf.keras.models.Sequential()"
   ]
  },
  {
   "cell_type": "code",
   "execution_count": 99,
   "id": "61c5563b",
   "metadata": {},
   "outputs": [],
   "source": [
    "ann.add(tf.keras.layers.Dense(units=6,activation=\"relu\"))"
   ]
  },
  {
   "cell_type": "code",
   "execution_count": 100,
   "id": "de74dfa3",
   "metadata": {},
   "outputs": [],
   "source": [
    "ann.add(tf.keras.layers.Dense(units=6,activation=\"relu\"))"
   ]
  },
  {
   "cell_type": "code",
   "execution_count": 101,
   "id": "54737073",
   "metadata": {},
   "outputs": [],
   "source": [
    "ann.add(tf.keras.layers.Dense(units=1))"
   ]
  },
  {
   "cell_type": "code",
   "execution_count": 102,
   "id": "253dac46",
   "metadata": {},
   "outputs": [],
   "source": [
    "ann.compile(optimizer=\"adam\",loss=\"mean_squared_error\")"
   ]
  },
  {
   "cell_type": "code",
   "execution_count": 122,
   "id": "4d30f38c",
   "metadata": {},
   "outputs": [
    {
     "name": "stdout",
     "output_type": "stream",
     "text": [
      "Epoch 1/50\n",
      "479/479 [==============================] - 0s 813us/step - loss: 25.5870\n",
      "Epoch 2/50\n",
      "479/479 [==============================] - 0s 805us/step - loss: 26.3144\n",
      "Epoch 3/50\n",
      "479/479 [==============================] - 0s 805us/step - loss: 25.9392\n",
      "Epoch 4/50\n",
      "479/479 [==============================] - 0s 804us/step - loss: 25.4635\n",
      "Epoch 5/50\n",
      "479/479 [==============================] - 0s 798us/step - loss: 26.4128\n",
      "Epoch 6/50\n",
      "479/479 [==============================] - 0s 803us/step - loss: 25.7886\n",
      "Epoch 7/50\n",
      "479/479 [==============================] - 0s 794us/step - loss: 26.0039\n",
      "Epoch 8/50\n",
      "479/479 [==============================] - 0s 800us/step - loss: 25.4964\n",
      "Epoch 9/50\n",
      "479/479 [==============================] - 0s 818us/step - loss: 25.9011\n",
      "Epoch 10/50\n",
      "479/479 [==============================] - 0s 804us/step - loss: 27.1586\n",
      "Epoch 11/50\n",
      "479/479 [==============================] - 0s 796us/step - loss: 26.4288\n",
      "Epoch 12/50\n",
      "479/479 [==============================] - 0s 801us/step - loss: 25.7021\n",
      "Epoch 13/50\n",
      "479/479 [==============================] - 0s 817us/step - loss: 26.1829\n",
      "Epoch 14/50\n",
      "479/479 [==============================] - 0s 802us/step - loss: 25.5864\n",
      "Epoch 15/50\n",
      "479/479 [==============================] - 0s 830us/step - loss: 25.7887\n",
      "Epoch 16/50\n",
      "479/479 [==============================] - 0s 815us/step - loss: 27.4019\n",
      "Epoch 17/50\n",
      "479/479 [==============================] - 0s 819us/step - loss: 25.4274\n",
      "Epoch 18/50\n",
      "479/479 [==============================] - 0s 817us/step - loss: 26.0212\n",
      "Epoch 19/50\n",
      "479/479 [==============================] - 0s 797us/step - loss: 25.3759\n",
      "Epoch 20/50\n",
      "479/479 [==============================] - 0s 801us/step - loss: 25.6905\n",
      "Epoch 21/50\n",
      "479/479 [==============================] - 0s 822us/step - loss: 25.9395\n",
      "Epoch 22/50\n",
      "479/479 [==============================] - 0s 818us/step - loss: 26.5308\n",
      "Epoch 23/50\n",
      "479/479 [==============================] - 0s 799us/step - loss: 25.8307\n",
      "Epoch 24/50\n",
      "479/479 [==============================] - 0s 897us/step - loss: 25.7774\n",
      "Epoch 25/50\n",
      "479/479 [==============================] - 0s 826us/step - loss: 27.3252\n",
      "Epoch 26/50\n",
      "479/479 [==============================] - 0s 838us/step - loss: 26.2080\n",
      "Epoch 27/50\n",
      "479/479 [==============================] - 0s 826us/step - loss: 25.9639\n",
      "Epoch 28/50\n",
      "479/479 [==============================] - 0s 832us/step - loss: 26.0732\n",
      "Epoch 29/50\n",
      "479/479 [==============================] - 0s 810us/step - loss: 25.7366\n",
      "Epoch 30/50\n",
      "479/479 [==============================] - 0s 813us/step - loss: 26.3252\n",
      "Epoch 31/50\n",
      "479/479 [==============================] - 0s 822us/step - loss: 25.8371\n",
      "Epoch 32/50\n",
      "479/479 [==============================] - 0s 821us/step - loss: 26.6701\n",
      "Epoch 33/50\n",
      "479/479 [==============================] - 0s 813us/step - loss: 26.8264\n",
      "Epoch 34/50\n",
      "479/479 [==============================] - 0s 886us/step - loss: 25.2411\n",
      "Epoch 35/50\n",
      "479/479 [==============================] - 0s 857us/step - loss: 25.1057\n",
      "Epoch 36/50\n",
      "479/479 [==============================] - 0s 818us/step - loss: 26.1281\n",
      "Epoch 37/50\n",
      "479/479 [==============================] - 0s 852us/step - loss: 27.3286\n",
      "Epoch 38/50\n",
      "479/479 [==============================] - 0s 827us/step - loss: 26.8262\n",
      "Epoch 39/50\n",
      "479/479 [==============================] - 0s 823us/step - loss: 26.0133\n",
      "Epoch 40/50\n",
      "479/479 [==============================] - 0s 932us/step - loss: 27.5910\n",
      "Epoch 41/50\n",
      "479/479 [==============================] - 0s 898us/step - loss: 25.8330\n",
      "Epoch 42/50\n",
      "479/479 [==============================] - 0s 859us/step - loss: 25.9659\n",
      "Epoch 43/50\n",
      "479/479 [==============================] - 0s 814us/step - loss: 26.7959\n",
      "Epoch 44/50\n",
      "479/479 [==============================] - 0s 842us/step - loss: 27.1767\n",
      "Epoch 45/50\n",
      "479/479 [==============================] - 0s 896us/step - loss: 25.5658\n",
      "Epoch 46/50\n",
      "479/479 [==============================] - 0s 805us/step - loss: 26.5111\n",
      "Epoch 47/50\n",
      "479/479 [==============================] - 0s 805us/step - loss: 26.1064\n",
      "Epoch 48/50\n",
      "479/479 [==============================] - 0s 803us/step - loss: 25.9738\n",
      "Epoch 49/50\n",
      "479/479 [==============================] - 0s 807us/step - loss: 26.5571\n",
      "Epoch 50/50\n",
      "479/479 [==============================] - 0s 813us/step - loss: 25.3974\n"
     ]
    },
    {
     "data": {
      "text/plain": [
       "<keras.callbacks.History at 0x1a77b015fa0>"
      ]
     },
     "execution_count": 122,
     "metadata": {},
     "output_type": "execute_result"
    }
   ],
   "source": [
    "ann.fit(X_train,y_train,batch_size=16,epochs=50)"
   ]
  },
  {
   "cell_type": "code",
   "execution_count": 123,
   "id": "0ef8e473",
   "metadata": {},
   "outputs": [
    {
     "name": "stdout",
     "output_type": "stream",
     "text": [
      "60/60 [==============================] - 0s 541us/step\n"
     ]
    }
   ],
   "source": [
    "y_pred=ann.predict(X_test)"
   ]
  },
  {
   "cell_type": "code",
   "execution_count": 124,
   "id": "b4898c34",
   "metadata": {},
   "outputs": [
    {
     "name": "stdout",
     "output_type": "stream",
     "text": [
      "[[431.34 431.23]\n",
      " [460.5  460.01]\n",
      " [465.39 461.14]\n",
      " ...\n",
      " [472.44 473.26]\n",
      " [437.72 438.  ]\n",
      " [457.47 463.28]]\n"
     ]
    }
   ],
   "source": [
    "np.set_printoptions(precision=2)\n",
    "print(np.concatenate((y_pred.reshape(len(y_pred),1),y_test.reshape(len(y_test),1)),1))"
   ]
  },
  {
   "cell_type": "code",
   "execution_count": 125,
   "id": "5174364c",
   "metadata": {},
   "outputs": [
    {
     "data": {
      "image/png": "[encoded data removed]",
      "text/plain": [
       "<Figure size 640x480 with 1 Axes>"
      ]
     },
     "metadata": {},
     "output_type": "display_data"
    }
   ],
   "source": [
    "import matplotlib.pyplot as plt\n",
    "\n",
    "# Plot the predicted values against the actual values\n",
    "plt.scatter(y_test, y_pred, color='blue')\n",
    "# Add a line representing y=x\n",
    "plt.plot([y_test.min(), y_test.max()], [y_test.min(), y_test.max()], 'k--', lw=4)\n",
    "# Add labels and a title\n",
    "plt.xlabel('Actual Values')\n",
    "plt.ylabel('Predicted Values')\n",
    "plt.title('Actual vs. Predicted Values')\n",
    "plt.show()\n",
    "\n",
    "\n"
   ]
  },
  {
   "cell_type": "code",
   "execution_count": 126,
   "id": "43c84788",
   "metadata": {},
   "outputs": [
    {
     "name": "stdout",
     "output_type": "stream",
     "text": [
      "Mean Squared Error: 24.027329495199037\n"
     ]
    }
   ],
   "source": [
    "from sklearn.metrics import mean_squared_error\n",
    "\n",
    "mse = mean_squared_error(y_test, y_pred)\n",
    "print(\"Mean Squared Error:\", mse)"
   ]
  },
  {
   "cell_type": "code",
   "execution_count": null,
   "id": "5e9650bf",
   "metadata": {},
   "outputs": [],
   "source": []
  },
  {
   "cell_type": "code",
   "execution_count": null,
   "id": "4acb69df",
   "metadata": {},
   "outputs": [],
   "source": []
  }
 ],
 "metadata": {
  "kernelspec": {
   "display_name": "Python 3 (ipykernel)",
   "language": "python",
   "name": "python3"
  },
  "language_info": {
   "codemirror_mode": {
    "name": "ipython",
    "version": 3
   },
   "file_extension": ".py",
   "mimetype": "text/x-python",
   "name": "python",
   "nbconvert_exporter": "python",
   "pygments_lexer": "ipython3",
   "version": "3.9.13"
  }
 },
 "nbformat": 4,
 "nbformat_minor": 5
}
